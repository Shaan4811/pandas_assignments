{
 "cells": [
  {
   "cell_type": "markdown",
   "id": "3fcc0733-8a83-440c-ab7d-5f1290373403",
   "metadata": {},
   "source": [
    "### task 2"
   ]
  },
  {
   "cell_type": "code",
   "execution_count": 7,
   "id": "81bdf430-a1e6-4638-b895-f1d0b4d454db",
   "metadata": {},
   "outputs": [],
   "source": [
    "import pandas as pd"
   ]
  },
  {
   "cell_type": "markdown",
   "id": "bad3ddb2-c25a-4e8b-9d12-aa7af3c16208",
   "metadata": {},
   "source": [
    "## qstn1"
   ]
  },
  {
   "cell_type": "code",
   "execution_count": 11,
   "id": "3bdb5f6d-ddb3-46af-8fb6-9c9c162f9bd7",
   "metadata": {},
   "outputs": [],
   "source": [
    "Rate={'1 SGD':'64.05 INR','1 JPY':'0.57 INR','1 BDT':'0.70 INR','1 CNY':'11.74 INR','1 HKD':'10.76 INR','1 IDR':'0.005 INR','1 KHR':'0.020 INR','1 KRW':'0.062 INR','1 LAK':'0.003 INR','1 LKR':'0.28 INR'}"
   ]
  },
  {
   "cell_type": "code",
   "execution_count": 13,
   "id": "881a0ede-39e2-4c51-84c0-5406918e1211",
   "metadata": {},
   "outputs": [
    {
     "data": {
      "text/plain": [
       "{'1 SGD': '64.05 INR',\n",
       " '1 JPY': '0.57 INR',\n",
       " '1 BDT': '0.70 INR',\n",
       " '1 CNY': '11.74 INR',\n",
       " '1 HKD': '10.76 INR',\n",
       " '1 IDR': '0.005 INR',\n",
       " '1 KHR': '0.020 INR',\n",
       " '1 KRW': '0.062 INR',\n",
       " '1 LAK': '0.003 INR',\n",
       " '1 LKR': '0.28 INR'}"
      ]
     },
     "execution_count": 13,
     "metadata": {},
     "output_type": "execute_result"
    }
   ],
   "source": [
    "Rate"
   ]
  },
  {
   "cell_type": "code",
   "execution_count": 29,
   "id": "99df7ce0-c502-4b7a-804e-c065c5403c4a",
   "metadata": {},
   "outputs": [
    {
     "data": {
      "text/html": [
       "<div>\n",
       "<style scoped>\n",
       "    .dataframe tbody tr th:only-of-type {\n",
       "        vertical-align: middle;\n",
       "    }\n",
       "\n",
       "    .dataframe tbody tr th {\n",
       "        vertical-align: top;\n",
       "    }\n",
       "\n",
       "    .dataframe thead th {\n",
       "        text-align: right;\n",
       "    }\n",
       "</style>\n",
       "<table border=\"1\" class=\"dataframe\">\n",
       "  <thead>\n",
       "    <tr style=\"text-align: right;\">\n",
       "      <th></th>\n",
       "      <th>1 SGD</th>\n",
       "      <th>1 JPY</th>\n",
       "      <th>1 BDT</th>\n",
       "      <th>1 CNY</th>\n",
       "      <th>1 HKD</th>\n",
       "      <th>1 IDR</th>\n",
       "      <th>1 KHR</th>\n",
       "      <th>1 KRW</th>\n",
       "      <th>1 LAK</th>\n",
       "      <th>1 LKR</th>\n",
       "    </tr>\n",
       "  </thead>\n",
       "  <tbody>\n",
       "    <tr>\n",
       "      <th>rate</th>\n",
       "      <td>64.05 INR</td>\n",
       "      <td>0.57 INR</td>\n",
       "      <td>0.70 INR</td>\n",
       "      <td>11.74 INR</td>\n",
       "      <td>10.76 INR</td>\n",
       "      <td>0.005 INR</td>\n",
       "      <td>0.020 INR</td>\n",
       "      <td>0.062 INR</td>\n",
       "      <td>0.003 INR</td>\n",
       "      <td>0.28 INR</td>\n",
       "    </tr>\n",
       "  </tbody>\n",
       "</table>\n",
       "</div>"
      ],
      "text/plain": [
       "          1 SGD     1 JPY     1 BDT      1 CNY      1 HKD      1 IDR  \\\n",
       "rate  64.05 INR  0.57 INR  0.70 INR  11.74 INR  10.76 INR  0.005 INR   \n",
       "\n",
       "          1 KHR      1 KRW      1 LAK     1 LKR  \n",
       "rate  0.020 INR  0.062 INR  0.003 INR  0.28 INR  "
      ]
     },
     "execution_count": 29,
     "metadata": {},
     "output_type": "execute_result"
    }
   ],
   "source": [
    "pd.DataFrame(Rate,index=['rate'])"
   ]
  },
  {
   "cell_type": "markdown",
   "id": "5930a5ed-ee7d-4256-9175-31363639243a",
   "metadata": {},
   "source": [
    "## qstn2"
   ]
  },
  {
   "cell_type": "code",
   "execution_count": 6,
   "id": "54eba6f9-e32c-4e92-bfca-d8d0a4442e63",
   "metadata": {},
   "outputs": [],
   "source": [
    "football={'Ronaldo':['07','Al-nassr'],'Messi':['10','Inter Miami'],'Neymar':['10','Al Hilal']}"
   ]
  },
  {
   "cell_type": "code",
   "execution_count": 8,
   "id": "38374358-defa-4f63-bd01-9535a5c18bd2",
   "metadata": {},
   "outputs": [
    {
     "data": {
      "text/plain": [
       "{'Ronaldo': ['07', 'Al-nassr'],\n",
       " 'Messi': ['10', 'Inter Miami'],\n",
       " 'Neymar': ['10', 'Al Hilal']}"
      ]
     },
     "execution_count": 8,
     "metadata": {},
     "output_type": "execute_result"
    }
   ],
   "source": [
    "football"
   ]
  },
  {
   "cell_type": "code",
   "execution_count": 10,
   "id": "6c81203d-e89c-4acf-9190-1019af789b9f",
   "metadata": {},
   "outputs": [],
   "source": [
    "a=pd.DataFrame(football,index=['jersey number','club'])"
   ]
  },
  {
   "cell_type": "code",
   "execution_count": 12,
   "id": "bfa2ceda-3b57-4163-86a7-66cac5087f8c",
   "metadata": {},
   "outputs": [
    {
     "data": {
      "text/html": [
       "<div>\n",
       "<style scoped>\n",
       "    .dataframe tbody tr th:only-of-type {\n",
       "        vertical-align: middle;\n",
       "    }\n",
       "\n",
       "    .dataframe tbody tr th {\n",
       "        vertical-align: top;\n",
       "    }\n",
       "\n",
       "    .dataframe thead th {\n",
       "        text-align: right;\n",
       "    }\n",
       "</style>\n",
       "<table border=\"1\" class=\"dataframe\">\n",
       "  <thead>\n",
       "    <tr style=\"text-align: right;\">\n",
       "      <th></th>\n",
       "      <th>Ronaldo</th>\n",
       "      <th>Messi</th>\n",
       "      <th>Neymar</th>\n",
       "    </tr>\n",
       "  </thead>\n",
       "  <tbody>\n",
       "    <tr>\n",
       "      <th>jersey number</th>\n",
       "      <td>07</td>\n",
       "      <td>10</td>\n",
       "      <td>10</td>\n",
       "    </tr>\n",
       "    <tr>\n",
       "      <th>club</th>\n",
       "      <td>Al-nassr</td>\n",
       "      <td>Inter Miami</td>\n",
       "      <td>Al Hilal</td>\n",
       "    </tr>\n",
       "  </tbody>\n",
       "</table>\n",
       "</div>"
      ],
      "text/plain": [
       "                Ronaldo        Messi    Neymar\n",
       "jersey number        07           10        10\n",
       "club           Al-nassr  Inter Miami  Al Hilal"
      ]
     },
     "execution_count": 12,
     "metadata": {},
     "output_type": "execute_result"
    }
   ],
   "source": [
    "a"
   ]
  },
  {
   "cell_type": "markdown",
   "id": "6fc43657-4f3d-4d82-9464-3c304bc5b446",
   "metadata": {},
   "source": [
    "## qstn 3"
   ]
  },
  {
   "cell_type": "code",
   "execution_count": 15,
   "id": "5cff45d7-f657-4141-b9dc-9bd3076ebd6e",
   "metadata": {},
   "outputs": [],
   "source": [
    "c={'India':'$3.937 trillion','United States':\"$28.78 trillion\",\"China\":\"$18.53 trillion\",\"Germany\":\"$4.59 trillion\",\"Japan\":\"$4.11 trillion\",\"United Kingdom\":\"$3.5 trillion\",\"France\":\"$3.13 trillion\",\"Brazil\":\"$2.33trillion\",\"Italy\":\"$2.32trillion\",\"Canada\":\"$2.24trillion\"}"
   ]
  },
  {
   "cell_type": "code",
   "execution_count": 17,
   "id": "48768c13-1b83-4d7a-bb2d-dcc18748f01b",
   "metadata": {},
   "outputs": [
    {
     "data": {
      "text/plain": [
       "{'India': '$3.937 trillion',\n",
       " 'United States': '$28.78 trillion',\n",
       " 'China': '$18.53 trillion',\n",
       " 'Germany': '$4.59 trillion',\n",
       " 'Japan': '$4.11 trillion',\n",
       " 'United Kingdom': '$3.5 trillion',\n",
       " 'France': '$3.13 trillion',\n",
       " 'Brazil': '$2.33trillion',\n",
       " 'Italy': '$2.32trillion',\n",
       " 'Canada': '$2.24trillion'}"
      ]
     },
     "execution_count": 17,
     "metadata": {},
     "output_type": "execute_result"
    }
   ],
   "source": [
    "c"
   ]
  },
  {
   "cell_type": "code",
   "execution_count": 19,
   "id": "12af9e1a-decb-4fe1-9a0c-faf4a966fa66",
   "metadata": {},
   "outputs": [],
   "source": [
    "gdp=pd.DataFrame(c,index=['GDP'])"
   ]
  },
  {
   "cell_type": "code",
   "execution_count": 21,
   "id": "6891784d-5473-4446-aa02-5bc7e068b8aa",
   "metadata": {},
   "outputs": [
    {
     "data": {
      "text/html": [
       "<div>\n",
       "<style scoped>\n",
       "    .dataframe tbody tr th:only-of-type {\n",
       "        vertical-align: middle;\n",
       "    }\n",
       "\n",
       "    .dataframe tbody tr th {\n",
       "        vertical-align: top;\n",
       "    }\n",
       "\n",
       "    .dataframe thead th {\n",
       "        text-align: right;\n",
       "    }\n",
       "</style>\n",
       "<table border=\"1\" class=\"dataframe\">\n",
       "  <thead>\n",
       "    <tr style=\"text-align: right;\">\n",
       "      <th></th>\n",
       "      <th>India</th>\n",
       "      <th>United States</th>\n",
       "      <th>China</th>\n",
       "      <th>Germany</th>\n",
       "      <th>Japan</th>\n",
       "      <th>United Kingdom</th>\n",
       "      <th>France</th>\n",
       "      <th>Brazil</th>\n",
       "      <th>Italy</th>\n",
       "      <th>Canada</th>\n",
       "    </tr>\n",
       "  </thead>\n",
       "  <tbody>\n",
       "    <tr>\n",
       "      <th>GDP</th>\n",
       "      <td>$3.937 trillion</td>\n",
       "      <td>$28.78 trillion</td>\n",
       "      <td>$18.53 trillion</td>\n",
       "      <td>$4.59 trillion</td>\n",
       "      <td>$4.11 trillion</td>\n",
       "      <td>$3.5 trillion</td>\n",
       "      <td>$3.13 trillion</td>\n",
       "      <td>$2.33trillion</td>\n",
       "      <td>$2.32trillion</td>\n",
       "      <td>$2.24trillion</td>\n",
       "    </tr>\n",
       "  </tbody>\n",
       "</table>\n",
       "</div>"
      ],
      "text/plain": [
       "               India    United States            China         Germany  \\\n",
       "GDP  $3.937 trillion  $28.78 trillion  $18.53 trillion  $4.59 trillion   \n",
       "\n",
       "              Japan United Kingdom          France         Brazil  \\\n",
       "GDP  $4.11 trillion  $3.5 trillion  $3.13 trillion  $2.33trillion   \n",
       "\n",
       "             Italy         Canada  \n",
       "GDP  $2.32trillion  $2.24trillion  "
      ]
     },
     "execution_count": 21,
     "metadata": {},
     "output_type": "execute_result"
    }
   ],
   "source": [
    "gdp"
   ]
  },
  {
   "cell_type": "code",
   "execution_count": null,
   "id": "443eefd4-e1a7-4094-bcdc-bd8b527ce742",
   "metadata": {},
   "outputs": [],
   "source": []
  }
 ],
 "metadata": {
  "kernelspec": {
   "display_name": "Python 3 (ipykernel)",
   "language": "python",
   "name": "python3"
  },
  "language_info": {
   "codemirror_mode": {
    "name": "ipython",
    "version": 3
   },
   "file_extension": ".py",
   "mimetype": "text/x-python",
   "name": "python",
   "nbconvert_exporter": "python",
   "pygments_lexer": "ipython3",
   "version": "3.12.4"
  }
 },
 "nbformat": 4,
 "nbformat_minor": 5
}
